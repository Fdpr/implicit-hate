{
 "cells": [
  {
   "cell_type": "markdown",
   "id": "baf09b6d",
   "metadata": {},
   "source": [
    "### Loading the classifier"
   ]
  },
  {
   "cell_type": "code",
   "execution_count": 7,
   "id": "62a93ffe",
   "metadata": {},
   "outputs": [],
   "source": [
    "import pickle\n",
    "import dill\n",
    "from gensim.models import fasttext\n",
    "from gensim.test.utils import datapath\n",
    "from nltk.corpus import stopwords\n",
    "from nltk.sentiment import vader\n",
    "from nltk import TweetTokenizer\n",
    "from textstat.textstat import textstat\n",
    "import numpy as np\n",
    "import re\n",
    "\n",
    "sentiment_analyzer = vader.SentimentIntensityAnalyzer()\n",
    "tokenizer = TweetTokenizer()\n",
    "stop = stopwords.words(\"English\")\n",
    "caps_tokens = re.compile(r\"\\w+(?:'\\w+)?|[^\\w\\s]\")"
   ]
  },
  {
   "cell_type": "code",
   "execution_count": 2,
   "id": "99233a72",
   "metadata": {},
   "outputs": [],
   "source": [
    "with open(\"implicit_hate_classifier.pkl\", \"rb\") as file:\n",
    "    classifier = pickle.load(file)\n",
    "with open(\"scaler.pkl\", \"rb\") as file:\n",
    "    scaler = pickle.load(file)\n",
    "with open(\"vectorize.pkl\", \"rb\") as file:\n",
    "    vectorize = dill.load(file) \n",
    "with open(\"../data/RNSB_classifiers/basic_classifier.pkl\", \"rb\") as basic_file:\n",
    "    rnsb = pickle.load(basic_file)[0]"
   ]
  },
  {
   "cell_type": "code",
   "execution_count": 3,
   "id": "97a86470",
   "metadata": {},
   "outputs": [],
   "source": [
    "vectors = fasttext.load_facebook_vectors(datapath(\"C:/Users/flohk/OneDrive/Uni/Projektseminar/data/crawl-300d-2M-subword/crawl-300d-2M-subword.bin\"))"
   ]
  },
  {
   "cell_type": "markdown",
   "id": "0c065e85",
   "metadata": {},
   "source": [
    "### Predicting for a sentence"
   ]
  },
  {
   "cell_type": "code",
   "execution_count": 22,
   "id": "a2174d09",
   "metadata": {},
   "outputs": [
    {
     "data": {
      "text/plain": [
       "array([False])"
      ]
     },
     "execution_count": 22,
     "metadata": {},
     "output_type": "execute_result"
    }
   ],
   "source": [
    "classifier.predict(scaler.transform(vectorize(\"This is such a nice day\", vectors, rnsb).reshape(1,324)))"
   ]
  },
  {
   "cell_type": "code",
   "execution_count": 23,
   "id": "11f68106",
   "metadata": {},
   "outputs": [
    {
     "data": {
      "text/plain": [
       "array([ True])"
      ]
     },
     "execution_count": 23,
     "metadata": {},
     "output_type": "execute_result"
    }
   ],
   "source": [
    "classifier.predict(scaler.transform(vectorize(\"I'm not saying you should be killed, I'm merely suggesting it\", vectors, rnsb).reshape(1,324)))"
   ]
  }
 ],
 "metadata": {
  "kernelspec": {
   "display_name": "Python 3 (ipykernel)",
   "language": "python",
   "name": "python3"
  },
  "language_info": {
   "codemirror_mode": {
    "name": "ipython",
    "version": 3
   },
   "file_extension": ".py",
   "mimetype": "text/x-python",
   "name": "python",
   "nbconvert_exporter": "python",
   "pygments_lexer": "ipython3",
   "version": "3.8.8"
  },
  "varInspector": {
   "cols": {
    "lenName": 16,
    "lenType": 16,
    "lenVar": 40
   },
   "kernels_config": {
    "python": {
     "delete_cmd_postfix": "",
     "delete_cmd_prefix": "del ",
     "library": "var_list.py",
     "varRefreshCmd": "print(var_dic_list())"
    },
    "r": {
     "delete_cmd_postfix": ") ",
     "delete_cmd_prefix": "rm(",
     "library": "var_list.r",
     "varRefreshCmd": "cat(var_dic_list()) "
    }
   },
   "types_to_exclude": [
    "module",
    "function",
    "builtin_function_or_method",
    "instance",
    "_Feature"
   ],
   "window_display": false
  }
 },
 "nbformat": 4,
 "nbformat_minor": 5
}
